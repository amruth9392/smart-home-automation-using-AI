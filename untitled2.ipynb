{
  "nbformat": 4,
  "nbformat_minor": 0,
  "metadata": {
    "colab": {
      "provenance": [],
      "authorship_tag": "ABX9TyPCkmso1sDmtLvEa9BBVIce",
      "include_colab_link": true
    },
    "kernelspec": {
      "name": "python3",
      "display_name": "Python 3"
    },
    "language_info": {
      "name": "python"
    }
  },
  "cells": [
    {
      "cell_type": "markdown",
      "metadata": {
        "id": "view-in-github",
        "colab_type": "text"
      },
      "source": [
        "<a href=\"https://colab.research.google.com/github/amruth9392/smart-home-automation-using-AI/blob/main/untitled2.ipynb\" target=\"_parent\"><img src=\"https://colab.research.google.com/assets/colab-badge.svg\" alt=\"Open In Colab\"/></a>"
      ]
    },
    {
      "cell_type": "code",
      "execution_count": null,
      "metadata": {
        "colab": {
          "base_uri": "https://localhost:8080/"
        },
        "id": "NUW2Cf9RPFrA",
        "outputId": "85de57fd-1998-4336-8d6c-0e38a18e6292"
      },
      "outputs": [
        {
          "output_type": "stream",
          "name": "stdout",
          "text": [
            "\n",
            "🕒 Time: 0:00 | 🌡️ Temp: 25.2°C | Motion Detected: True\n",
            "Lights: ON\n",
            "AC: OFF\n",
            "⚠️ Security Alert: Motion Detected!\n",
            "\n",
            "🕒 Time: 6:00 | 🌡️ Temp: 28.9°C | Motion Detected: True\n",
            "Lights: OFF\n",
            "AC: ON\n",
            "⚠️ Security Alert: Motion Detected!\n",
            "\n",
            "🕒 Time: 19:00 | 🌡️ Temp: 32.4°C | Motion Detected: True\n",
            "Lights: ON\n",
            "AC: ON\n",
            "⚠️ Security Alert: Motion Detected!\n",
            "\n",
            "🕒 Time: 8:00 | 🌡️ Temp: 25.5°C | Motion Detected: True\n",
            "Lights: OFF\n",
            "AC: OFF\n",
            "⚠️ Security Alert: Motion Detected!\n",
            "\n",
            "🕒 Time: 18:00 | 🌡️ Temp: 36.0°C | Motion Detected: True\n",
            "Lights: ON\n",
            "AC: ON\n",
            "⚠️ Security Alert: Motion Detected!\n"
          ]
        }
      ],
      "source": [
        "import time\n",
        "import random\n",
        "\n",
        "class SmartHomeAI:\n",
        "    def __init__(self):\n",
        "        self.lights = False\n",
        "        self.ac = False\n",
        "        self.security_alert = False\n",
        "\n",
        "    def control_lights(self, hour):\n",
        "        # Lights ON during night hours\n",
        "        self.lights = 18 <= hour <= 23 or 0 <= hour <= 5\n",
        "        print(\"Lights:\", \"ON\" if self.lights else \"OFF\")\n",
        "\n",
        "    def control_ac(self, temperature):\n",
        "        # AC ON if temperature exceeds 28°C\n",
        "        self.ac = temperature > 28\n",
        "        print(\"AC:\", \"ON\" if self.ac else \"OFF\")\n",
        "\n",
        "    def monitor_security(self, motion):\n",
        "        # Simple motion detection\n",
        "        if motion:\n",
        "            self.security_alert = True\n",
        "            print(\"⚠️ Security Alert: Motion Detected!\")\n",
        "        else:\n",
        "            self.security_alert = False\n",
        "            print(\"Security: Normal\")\n",
        "\n",
        "    def run_cycle(self, hour, temperature, motion):\n",
        "        print(f\"\\n🕒 Time: {hour}:00 | 🌡️ Temp: {temperature:.1f}°C | Motion Detected: {motion}\")\n",
        "        self.control_lights(hour)\n",
        "        self.control_ac(temperature)\n",
        "        self.monitor_security(motion)\n",
        "\n",
        "# Main Simulation\n",
        "smart_home = SmartHomeAI()\n",
        "\n",
        "for _ in range(5):\n",
        "    current_hour = random.randint(0, 23)\n",
        "    current_temp = random.uniform(20, 36)\n",
        "    motion = random.choice([True, False])\n",
        "\n",
        "    smart_home.run_cycle(current_hour, current_temp, motion)\n",
        "    time.sleep(2)\n",
        "\n",
        "\n"
      ]
    }
  ]
}